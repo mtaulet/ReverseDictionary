{
  "nbformat": 4,
  "nbformat_minor": 0,
  "metadata": {
    "colab": {
      "provenance": [],
      "gpuType": "T4"
    },
    "kernelspec": {
      "name": "python3",
      "display_name": "Python 3"
    },
    "language_info": {
      "name": "python"
    },
    "gpuClass": "standard",
    "accelerator": "GPU",
    "widgets": {
      "application/vnd.jupyter.widget-state+json": {
        "b91d22637bb740578473f0cb9e725151": {
          "model_module": "@jupyter-widgets/controls",
          "model_name": "HBoxModel",
          "model_module_version": "1.5.0",
          "state": {
            "_dom_classes": [],
            "_model_module": "@jupyter-widgets/controls",
            "_model_module_version": "1.5.0",
            "_model_name": "HBoxModel",
            "_view_count": null,
            "_view_module": "@jupyter-widgets/controls",
            "_view_module_version": "1.5.0",
            "_view_name": "HBoxView",
            "box_style": "",
            "children": [
              "IPY_MODEL_0dd6354978374eba9e19dba5b6773223",
              "IPY_MODEL_24ff6386a3954d688ff6a86abe624ca2",
              "IPY_MODEL_46cc08e06d1b48b6b6d0a282b8564344"
            ],
            "layout": "IPY_MODEL_847fcbc9b9664ff4b67feb944662bcdc"
          }
        },
        "0dd6354978374eba9e19dba5b6773223": {
          "model_module": "@jupyter-widgets/controls",
          "model_name": "HTMLModel",
          "model_module_version": "1.5.0",
          "state": {
            "_dom_classes": [],
            "_model_module": "@jupyter-widgets/controls",
            "_model_module_version": "1.5.0",
            "_model_name": "HTMLModel",
            "_view_count": null,
            "_view_module": "@jupyter-widgets/controls",
            "_view_module_version": "1.5.0",
            "_view_name": "HTMLView",
            "description": "",
            "description_tooltip": null,
            "layout": "IPY_MODEL_c0d09ca9c6ad4be2a8973748ca3e312b",
            "placeholder": "​",
            "style": "IPY_MODEL_b034592557c74a9094ff6ce9eefe5259",
            "value": "Downloading (…)okenizer_config.json: 100%"
          }
        },
        "24ff6386a3954d688ff6a86abe624ca2": {
          "model_module": "@jupyter-widgets/controls",
          "model_name": "FloatProgressModel",
          "model_module_version": "1.5.0",
          "state": {
            "_dom_classes": [],
            "_model_module": "@jupyter-widgets/controls",
            "_model_module_version": "1.5.0",
            "_model_name": "FloatProgressModel",
            "_view_count": null,
            "_view_module": "@jupyter-widgets/controls",
            "_view_module_version": "1.5.0",
            "_view_name": "ProgressView",
            "bar_style": "success",
            "description": "",
            "description_tooltip": null,
            "layout": "IPY_MODEL_65e7fcee1b38478f94c71ccb4275db19",
            "max": 28,
            "min": 0,
            "orientation": "horizontal",
            "style": "IPY_MODEL_c09c2817b48e47998ae8654a4e2b3e21",
            "value": 28
          }
        },
        "46cc08e06d1b48b6b6d0a282b8564344": {
          "model_module": "@jupyter-widgets/controls",
          "model_name": "HTMLModel",
          "model_module_version": "1.5.0",
          "state": {
            "_dom_classes": [],
            "_model_module": "@jupyter-widgets/controls",
            "_model_module_version": "1.5.0",
            "_model_name": "HTMLModel",
            "_view_count": null,
            "_view_module": "@jupyter-widgets/controls",
            "_view_module_version": "1.5.0",
            "_view_name": "HTMLView",
            "description": "",
            "description_tooltip": null,
            "layout": "IPY_MODEL_a1519398f67444d984fc43057da3d201",
            "placeholder": "​",
            "style": "IPY_MODEL_5ef531a48b194f38a292a977a014bb84",
            "value": " 28.0/28.0 [00:00&lt;00:00, 726B/s]"
          }
        },
        "847fcbc9b9664ff4b67feb944662bcdc": {
          "model_module": "@jupyter-widgets/base",
          "model_name": "LayoutModel",
          "model_module_version": "1.2.0",
          "state": {
            "_model_module": "@jupyter-widgets/base",
            "_model_module_version": "1.2.0",
            "_model_name": "LayoutModel",
            "_view_count": null,
            "_view_module": "@jupyter-widgets/base",
            "_view_module_version": "1.2.0",
            "_view_name": "LayoutView",
            "align_content": null,
            "align_items": null,
            "align_self": null,
            "border": null,
            "bottom": null,
            "display": null,
            "flex": null,
            "flex_flow": null,
            "grid_area": null,
            "grid_auto_columns": null,
            "grid_auto_flow": null,
            "grid_auto_rows": null,
            "grid_column": null,
            "grid_gap": null,
            "grid_row": null,
            "grid_template_areas": null,
            "grid_template_columns": null,
            "grid_template_rows": null,
            "height": null,
            "justify_content": null,
            "justify_items": null,
            "left": null,
            "margin": null,
            "max_height": null,
            "max_width": null,
            "min_height": null,
            "min_width": null,
            "object_fit": null,
            "object_position": null,
            "order": null,
            "overflow": null,
            "overflow_x": null,
            "overflow_y": null,
            "padding": null,
            "right": null,
            "top": null,
            "visibility": null,
            "width": null
          }
        },
        "c0d09ca9c6ad4be2a8973748ca3e312b": {
          "model_module": "@jupyter-widgets/base",
          "model_name": "LayoutModel",
          "model_module_version": "1.2.0",
          "state": {
            "_model_module": "@jupyter-widgets/base",
            "_model_module_version": "1.2.0",
            "_model_name": "LayoutModel",
            "_view_count": null,
            "_view_module": "@jupyter-widgets/base",
            "_view_module_version": "1.2.0",
            "_view_name": "LayoutView",
            "align_content": null,
            "align_items": null,
            "align_self": null,
            "border": null,
            "bottom": null,
            "display": null,
            "flex": null,
            "flex_flow": null,
            "grid_area": null,
            "grid_auto_columns": null,
            "grid_auto_flow": null,
            "grid_auto_rows": null,
            "grid_column": null,
            "grid_gap": null,
            "grid_row": null,
            "grid_template_areas": null,
            "grid_template_columns": null,
            "grid_template_rows": null,
            "height": null,
            "justify_content": null,
            "justify_items": null,
            "left": null,
            "margin": null,
            "max_height": null,
            "max_width": null,
            "min_height": null,
            "min_width": null,
            "object_fit": null,
            "object_position": null,
            "order": null,
            "overflow": null,
            "overflow_x": null,
            "overflow_y": null,
            "padding": null,
            "right": null,
            "top": null,
            "visibility": null,
            "width": null
          }
        },
        "b034592557c74a9094ff6ce9eefe5259": {
          "model_module": "@jupyter-widgets/controls",
          "model_name": "DescriptionStyleModel",
          "model_module_version": "1.5.0",
          "state": {
            "_model_module": "@jupyter-widgets/controls",
            "_model_module_version": "1.5.0",
            "_model_name": "DescriptionStyleModel",
            "_view_count": null,
            "_view_module": "@jupyter-widgets/base",
            "_view_module_version": "1.2.0",
            "_view_name": "StyleView",
            "description_width": ""
          }
        },
        "65e7fcee1b38478f94c71ccb4275db19": {
          "model_module": "@jupyter-widgets/base",
          "model_name": "LayoutModel",
          "model_module_version": "1.2.0",
          "state": {
            "_model_module": "@jupyter-widgets/base",
            "_model_module_version": "1.2.0",
            "_model_name": "LayoutModel",
            "_view_count": null,
            "_view_module": "@jupyter-widgets/base",
            "_view_module_version": "1.2.0",
            "_view_name": "LayoutView",
            "align_content": null,
            "align_items": null,
            "align_self": null,
            "border": null,
            "bottom": null,
            "display": null,
            "flex": null,
            "flex_flow": null,
            "grid_area": null,
            "grid_auto_columns": null,
            "grid_auto_flow": null,
            "grid_auto_rows": null,
            "grid_column": null,
            "grid_gap": null,
            "grid_row": null,
            "grid_template_areas": null,
            "grid_template_columns": null,
            "grid_template_rows": null,
            "height": null,
            "justify_content": null,
            "justify_items": null,
            "left": null,
            "margin": null,
            "max_height": null,
            "max_width": null,
            "min_height": null,
            "min_width": null,
            "object_fit": null,
            "object_position": null,
            "order": null,
            "overflow": null,
            "overflow_x": null,
            "overflow_y": null,
            "padding": null,
            "right": null,
            "top": null,
            "visibility": null,
            "width": null
          }
        },
        "c09c2817b48e47998ae8654a4e2b3e21": {
          "model_module": "@jupyter-widgets/controls",
          "model_name": "ProgressStyleModel",
          "model_module_version": "1.5.0",
          "state": {
            "_model_module": "@jupyter-widgets/controls",
            "_model_module_version": "1.5.0",
            "_model_name": "ProgressStyleModel",
            "_view_count": null,
            "_view_module": "@jupyter-widgets/base",
            "_view_module_version": "1.2.0",
            "_view_name": "StyleView",
            "bar_color": null,
            "description_width": ""
          }
        },
        "a1519398f67444d984fc43057da3d201": {
          "model_module": "@jupyter-widgets/base",
          "model_name": "LayoutModel",
          "model_module_version": "1.2.0",
          "state": {
            "_model_module": "@jupyter-widgets/base",
            "_model_module_version": "1.2.0",
            "_model_name": "LayoutModel",
            "_view_count": null,
            "_view_module": "@jupyter-widgets/base",
            "_view_module_version": "1.2.0",
            "_view_name": "LayoutView",
            "align_content": null,
            "align_items": null,
            "align_self": null,
            "border": null,
            "bottom": null,
            "display": null,
            "flex": null,
            "flex_flow": null,
            "grid_area": null,
            "grid_auto_columns": null,
            "grid_auto_flow": null,
            "grid_auto_rows": null,
            "grid_column": null,
            "grid_gap": null,
            "grid_row": null,
            "grid_template_areas": null,
            "grid_template_columns": null,
            "grid_template_rows": null,
            "height": null,
            "justify_content": null,
            "justify_items": null,
            "left": null,
            "margin": null,
            "max_height": null,
            "max_width": null,
            "min_height": null,
            "min_width": null,
            "object_fit": null,
            "object_position": null,
            "order": null,
            "overflow": null,
            "overflow_x": null,
            "overflow_y": null,
            "padding": null,
            "right": null,
            "top": null,
            "visibility": null,
            "width": null
          }
        },
        "5ef531a48b194f38a292a977a014bb84": {
          "model_module": "@jupyter-widgets/controls",
          "model_name": "DescriptionStyleModel",
          "model_module_version": "1.5.0",
          "state": {
            "_model_module": "@jupyter-widgets/controls",
            "_model_module_version": "1.5.0",
            "_model_name": "DescriptionStyleModel",
            "_view_count": null,
            "_view_module": "@jupyter-widgets/base",
            "_view_module_version": "1.2.0",
            "_view_name": "StyleView",
            "description_width": ""
          }
        },
        "d847fbdbdccb442ba4badfb6178c2c41": {
          "model_module": "@jupyter-widgets/controls",
          "model_name": "HBoxModel",
          "model_module_version": "1.5.0",
          "state": {
            "_dom_classes": [],
            "_model_module": "@jupyter-widgets/controls",
            "_model_module_version": "1.5.0",
            "_model_name": "HBoxModel",
            "_view_count": null,
            "_view_module": "@jupyter-widgets/controls",
            "_view_module_version": "1.5.0",
            "_view_name": "HBoxView",
            "box_style": "",
            "children": [
              "IPY_MODEL_212df46969744c6ab6d0f2b69e222f0b",
              "IPY_MODEL_18534b643170446092ed21b3de5c2ae5",
              "IPY_MODEL_c66470105acc4ab6bbd9ca76d900e174"
            ],
            "layout": "IPY_MODEL_bd4ac6dec0864b8c85cb817fa743319e"
          }
        },
        "212df46969744c6ab6d0f2b69e222f0b": {
          "model_module": "@jupyter-widgets/controls",
          "model_name": "HTMLModel",
          "model_module_version": "1.5.0",
          "state": {
            "_dom_classes": [],
            "_model_module": "@jupyter-widgets/controls",
            "_model_module_version": "1.5.0",
            "_model_name": "HTMLModel",
            "_view_count": null,
            "_view_module": "@jupyter-widgets/controls",
            "_view_module_version": "1.5.0",
            "_view_name": "HTMLView",
            "description": "",
            "description_tooltip": null,
            "layout": "IPY_MODEL_8d372b39294f406d9aa6a4500c034c9c",
            "placeholder": "​",
            "style": "IPY_MODEL_28d2807ef82a4ec091fef8c4c9d7fb97",
            "value": "Downloading (…)lve/main/config.json: 100%"
          }
        },
        "18534b643170446092ed21b3de5c2ae5": {
          "model_module": "@jupyter-widgets/controls",
          "model_name": "FloatProgressModel",
          "model_module_version": "1.5.0",
          "state": {
            "_dom_classes": [],
            "_model_module": "@jupyter-widgets/controls",
            "_model_module_version": "1.5.0",
            "_model_name": "FloatProgressModel",
            "_view_count": null,
            "_view_module": "@jupyter-widgets/controls",
            "_view_module_version": "1.5.0",
            "_view_name": "ProgressView",
            "bar_style": "success",
            "description": "",
            "description_tooltip": null,
            "layout": "IPY_MODEL_8874cd622b924ee5971e70033170f81a",
            "max": 483,
            "min": 0,
            "orientation": "horizontal",
            "style": "IPY_MODEL_18110a7382534baca884ec61628eb0dd",
            "value": 483
          }
        },
        "c66470105acc4ab6bbd9ca76d900e174": {
          "model_module": "@jupyter-widgets/controls",
          "model_name": "HTMLModel",
          "model_module_version": "1.5.0",
          "state": {
            "_dom_classes": [],
            "_model_module": "@jupyter-widgets/controls",
            "_model_module_version": "1.5.0",
            "_model_name": "HTMLModel",
            "_view_count": null,
            "_view_module": "@jupyter-widgets/controls",
            "_view_module_version": "1.5.0",
            "_view_name": "HTMLView",
            "description": "",
            "description_tooltip": null,
            "layout": "IPY_MODEL_c1f0fb87489741a9b46b5fa8899e53b7",
            "placeholder": "​",
            "style": "IPY_MODEL_51fd78a7aa96414dad624bac06b79a4c",
            "value": " 483/483 [00:00&lt;00:00, 9.49kB/s]"
          }
        },
        "bd4ac6dec0864b8c85cb817fa743319e": {
          "model_module": "@jupyter-widgets/base",
          "model_name": "LayoutModel",
          "model_module_version": "1.2.0",
          "state": {
            "_model_module": "@jupyter-widgets/base",
            "_model_module_version": "1.2.0",
            "_model_name": "LayoutModel",
            "_view_count": null,
            "_view_module": "@jupyter-widgets/base",
            "_view_module_version": "1.2.0",
            "_view_name": "LayoutView",
            "align_content": null,
            "align_items": null,
            "align_self": null,
            "border": null,
            "bottom": null,
            "display": null,
            "flex": null,
            "flex_flow": null,
            "grid_area": null,
            "grid_auto_columns": null,
            "grid_auto_flow": null,
            "grid_auto_rows": null,
            "grid_column": null,
            "grid_gap": null,
            "grid_row": null,
            "grid_template_areas": null,
            "grid_template_columns": null,
            "grid_template_rows": null,
            "height": null,
            "justify_content": null,
            "justify_items": null,
            "left": null,
            "margin": null,
            "max_height": null,
            "max_width": null,
            "min_height": null,
            "min_width": null,
            "object_fit": null,
            "object_position": null,
            "order": null,
            "overflow": null,
            "overflow_x": null,
            "overflow_y": null,
            "padding": null,
            "right": null,
            "top": null,
            "visibility": null,
            "width": null
          }
        },
        "8d372b39294f406d9aa6a4500c034c9c": {
          "model_module": "@jupyter-widgets/base",
          "model_name": "LayoutModel",
          "model_module_version": "1.2.0",
          "state": {
            "_model_module": "@jupyter-widgets/base",
            "_model_module_version": "1.2.0",
            "_model_name": "LayoutModel",
            "_view_count": null,
            "_view_module": "@jupyter-widgets/base",
            "_view_module_version": "1.2.0",
            "_view_name": "LayoutView",
            "align_content": null,
            "align_items": null,
            "align_self": null,
            "border": null,
            "bottom": null,
            "display": null,
            "flex": null,
            "flex_flow": null,
            "grid_area": null,
            "grid_auto_columns": null,
            "grid_auto_flow": null,
            "grid_auto_rows": null,
            "grid_column": null,
            "grid_gap": null,
            "grid_row": null,
            "grid_template_areas": null,
            "grid_template_columns": null,
            "grid_template_rows": null,
            "height": null,
            "justify_content": null,
            "justify_items": null,
            "left": null,
            "margin": null,
            "max_height": null,
            "max_width": null,
            "min_height": null,
            "min_width": null,
            "object_fit": null,
            "object_position": null,
            "order": null,
            "overflow": null,
            "overflow_x": null,
            "overflow_y": null,
            "padding": null,
            "right": null,
            "top": null,
            "visibility": null,
            "width": null
          }
        },
        "28d2807ef82a4ec091fef8c4c9d7fb97": {
          "model_module": "@jupyter-widgets/controls",
          "model_name": "DescriptionStyleModel",
          "model_module_version": "1.5.0",
          "state": {
            "_model_module": "@jupyter-widgets/controls",
            "_model_module_version": "1.5.0",
            "_model_name": "DescriptionStyleModel",
            "_view_count": null,
            "_view_module": "@jupyter-widgets/base",
            "_view_module_version": "1.2.0",
            "_view_name": "StyleView",
            "description_width": ""
          }
        },
        "8874cd622b924ee5971e70033170f81a": {
          "model_module": "@jupyter-widgets/base",
          "model_name": "LayoutModel",
          "model_module_version": "1.2.0",
          "state": {
            "_model_module": "@jupyter-widgets/base",
            "_model_module_version": "1.2.0",
            "_model_name": "LayoutModel",
            "_view_count": null,
            "_view_module": "@jupyter-widgets/base",
            "_view_module_version": "1.2.0",
            "_view_name": "LayoutView",
            "align_content": null,
            "align_items": null,
            "align_self": null,
            "border": null,
            "bottom": null,
            "display": null,
            "flex": null,
            "flex_flow": null,
            "grid_area": null,
            "grid_auto_columns": null,
            "grid_auto_flow": null,
            "grid_auto_rows": null,
            "grid_column": null,
            "grid_gap": null,
            "grid_row": null,
            "grid_template_areas": null,
            "grid_template_columns": null,
            "grid_template_rows": null,
            "height": null,
            "justify_content": null,
            "justify_items": null,
            "left": null,
            "margin": null,
            "max_height": null,
            "max_width": null,
            "min_height": null,
            "min_width": null,
            "object_fit": null,
            "object_position": null,
            "order": null,
            "overflow": null,
            "overflow_x": null,
            "overflow_y": null,
            "padding": null,
            "right": null,
            "top": null,
            "visibility": null,
            "width": null
          }
        },
        "18110a7382534baca884ec61628eb0dd": {
          "model_module": "@jupyter-widgets/controls",
          "model_name": "ProgressStyleModel",
          "model_module_version": "1.5.0",
          "state": {
            "_model_module": "@jupyter-widgets/controls",
            "_model_module_version": "1.5.0",
            "_model_name": "ProgressStyleModel",
            "_view_count": null,
            "_view_module": "@jupyter-widgets/base",
            "_view_module_version": "1.2.0",
            "_view_name": "StyleView",
            "bar_color": null,
            "description_width": ""
          }
        },
        "c1f0fb87489741a9b46b5fa8899e53b7": {
          "model_module": "@jupyter-widgets/base",
          "model_name": "LayoutModel",
          "model_module_version": "1.2.0",
          "state": {
            "_model_module": "@jupyter-widgets/base",
            "_model_module_version": "1.2.0",
            "_model_name": "LayoutModel",
            "_view_count": null,
            "_view_module": "@jupyter-widgets/base",
            "_view_module_version": "1.2.0",
            "_view_name": "LayoutView",
            "align_content": null,
            "align_items": null,
            "align_self": null,
            "border": null,
            "bottom": null,
            "display": null,
            "flex": null,
            "flex_flow": null,
            "grid_area": null,
            "grid_auto_columns": null,
            "grid_auto_flow": null,
            "grid_auto_rows": null,
            "grid_column": null,
            "grid_gap": null,
            "grid_row": null,
            "grid_template_areas": null,
            "grid_template_columns": null,
            "grid_template_rows": null,
            "height": null,
            "justify_content": null,
            "justify_items": null,
            "left": null,
            "margin": null,
            "max_height": null,
            "max_width": null,
            "min_height": null,
            "min_width": null,
            "object_fit": null,
            "object_position": null,
            "order": null,
            "overflow": null,
            "overflow_x": null,
            "overflow_y": null,
            "padding": null,
            "right": null,
            "top": null,
            "visibility": null,
            "width": null
          }
        },
        "51fd78a7aa96414dad624bac06b79a4c": {
          "model_module": "@jupyter-widgets/controls",
          "model_name": "DescriptionStyleModel",
          "model_module_version": "1.5.0",
          "state": {
            "_model_module": "@jupyter-widgets/controls",
            "_model_module_version": "1.5.0",
            "_model_name": "DescriptionStyleModel",
            "_view_count": null,
            "_view_module": "@jupyter-widgets/base",
            "_view_module_version": "1.2.0",
            "_view_name": "StyleView",
            "description_width": ""
          }
        },
        "ec2810bf92b845d1a7443df45784575e": {
          "model_module": "@jupyter-widgets/controls",
          "model_name": "HBoxModel",
          "model_module_version": "1.5.0",
          "state": {
            "_dom_classes": [],
            "_model_module": "@jupyter-widgets/controls",
            "_model_module_version": "1.5.0",
            "_model_name": "HBoxModel",
            "_view_count": null,
            "_view_module": "@jupyter-widgets/controls",
            "_view_module_version": "1.5.0",
            "_view_name": "HBoxView",
            "box_style": "",
            "children": [
              "IPY_MODEL_2b5b08a130ec4ad7887a828bd2278ea6",
              "IPY_MODEL_d429d84025964b8599ff434b36e25d6e",
              "IPY_MODEL_d815b401adf746cabc0a35a40ec366cc"
            ],
            "layout": "IPY_MODEL_e2d33b54f9a24fe3991e7870a02b5a24"
          }
        },
        "2b5b08a130ec4ad7887a828bd2278ea6": {
          "model_module": "@jupyter-widgets/controls",
          "model_name": "HTMLModel",
          "model_module_version": "1.5.0",
          "state": {
            "_dom_classes": [],
            "_model_module": "@jupyter-widgets/controls",
            "_model_module_version": "1.5.0",
            "_model_name": "HTMLModel",
            "_view_count": null,
            "_view_module": "@jupyter-widgets/controls",
            "_view_module_version": "1.5.0",
            "_view_name": "HTMLView",
            "description": "",
            "description_tooltip": null,
            "layout": "IPY_MODEL_513b430cf14e4a9f843a3902e4e6fde0",
            "placeholder": "​",
            "style": "IPY_MODEL_5eea92a47e5d4d3fbe821c7600b6ef50",
            "value": "Downloading (…)solve/main/vocab.txt: 100%"
          }
        },
        "d429d84025964b8599ff434b36e25d6e": {
          "model_module": "@jupyter-widgets/controls",
          "model_name": "FloatProgressModel",
          "model_module_version": "1.5.0",
          "state": {
            "_dom_classes": [],
            "_model_module": "@jupyter-widgets/controls",
            "_model_module_version": "1.5.0",
            "_model_name": "FloatProgressModel",
            "_view_count": null,
            "_view_module": "@jupyter-widgets/controls",
            "_view_module_version": "1.5.0",
            "_view_name": "ProgressView",
            "bar_style": "success",
            "description": "",
            "description_tooltip": null,
            "layout": "IPY_MODEL_6a208ea7b552469e96ad1ab6b19c26af",
            "max": 231508,
            "min": 0,
            "orientation": "horizontal",
            "style": "IPY_MODEL_e129f7ab03cc445e883bc0c1b04550bf",
            "value": 231508
          }
        },
        "d815b401adf746cabc0a35a40ec366cc": {
          "model_module": "@jupyter-widgets/controls",
          "model_name": "HTMLModel",
          "model_module_version": "1.5.0",
          "state": {
            "_dom_classes": [],
            "_model_module": "@jupyter-widgets/controls",
            "_model_module_version": "1.5.0",
            "_model_name": "HTMLModel",
            "_view_count": null,
            "_view_module": "@jupyter-widgets/controls",
            "_view_module_version": "1.5.0",
            "_view_name": "HTMLView",
            "description": "",
            "description_tooltip": null,
            "layout": "IPY_MODEL_85bf94df824149848955243a46fbc63f",
            "placeholder": "​",
            "style": "IPY_MODEL_01da18ed2c054bb5b28f52eb2d5a009e",
            "value": " 232k/232k [00:00&lt;00:00, 559kB/s]"
          }
        },
        "e2d33b54f9a24fe3991e7870a02b5a24": {
          "model_module": "@jupyter-widgets/base",
          "model_name": "LayoutModel",
          "model_module_version": "1.2.0",
          "state": {
            "_model_module": "@jupyter-widgets/base",
            "_model_module_version": "1.2.0",
            "_model_name": "LayoutModel",
            "_view_count": null,
            "_view_module": "@jupyter-widgets/base",
            "_view_module_version": "1.2.0",
            "_view_name": "LayoutView",
            "align_content": null,
            "align_items": null,
            "align_self": null,
            "border": null,
            "bottom": null,
            "display": null,
            "flex": null,
            "flex_flow": null,
            "grid_area": null,
            "grid_auto_columns": null,
            "grid_auto_flow": null,
            "grid_auto_rows": null,
            "grid_column": null,
            "grid_gap": null,
            "grid_row": null,
            "grid_template_areas": null,
            "grid_template_columns": null,
            "grid_template_rows": null,
            "height": null,
            "justify_content": null,
            "justify_items": null,
            "left": null,
            "margin": null,
            "max_height": null,
            "max_width": null,
            "min_height": null,
            "min_width": null,
            "object_fit": null,
            "object_position": null,
            "order": null,
            "overflow": null,
            "overflow_x": null,
            "overflow_y": null,
            "padding": null,
            "right": null,
            "top": null,
            "visibility": null,
            "width": null
          }
        },
        "513b430cf14e4a9f843a3902e4e6fde0": {
          "model_module": "@jupyter-widgets/base",
          "model_name": "LayoutModel",
          "model_module_version": "1.2.0",
          "state": {
            "_model_module": "@jupyter-widgets/base",
            "_model_module_version": "1.2.0",
            "_model_name": "LayoutModel",
            "_view_count": null,
            "_view_module": "@jupyter-widgets/base",
            "_view_module_version": "1.2.0",
            "_view_name": "LayoutView",
            "align_content": null,
            "align_items": null,
            "align_self": null,
            "border": null,
            "bottom": null,
            "display": null,
            "flex": null,
            "flex_flow": null,
            "grid_area": null,
            "grid_auto_columns": null,
            "grid_auto_flow": null,
            "grid_auto_rows": null,
            "grid_column": null,
            "grid_gap": null,
            "grid_row": null,
            "grid_template_areas": null,
            "grid_template_columns": null,
            "grid_template_rows": null,
            "height": null,
            "justify_content": null,
            "justify_items": null,
            "left": null,
            "margin": null,
            "max_height": null,
            "max_width": null,
            "min_height": null,
            "min_width": null,
            "object_fit": null,
            "object_position": null,
            "order": null,
            "overflow": null,
            "overflow_x": null,
            "overflow_y": null,
            "padding": null,
            "right": null,
            "top": null,
            "visibility": null,
            "width": null
          }
        },
        "5eea92a47e5d4d3fbe821c7600b6ef50": {
          "model_module": "@jupyter-widgets/controls",
          "model_name": "DescriptionStyleModel",
          "model_module_version": "1.5.0",
          "state": {
            "_model_module": "@jupyter-widgets/controls",
            "_model_module_version": "1.5.0",
            "_model_name": "DescriptionStyleModel",
            "_view_count": null,
            "_view_module": "@jupyter-widgets/base",
            "_view_module_version": "1.2.0",
            "_view_name": "StyleView",
            "description_width": ""
          }
        },
        "6a208ea7b552469e96ad1ab6b19c26af": {
          "model_module": "@jupyter-widgets/base",
          "model_name": "LayoutModel",
          "model_module_version": "1.2.0",
          "state": {
            "_model_module": "@jupyter-widgets/base",
            "_model_module_version": "1.2.0",
            "_model_name": "LayoutModel",
            "_view_count": null,
            "_view_module": "@jupyter-widgets/base",
            "_view_module_version": "1.2.0",
            "_view_name": "LayoutView",
            "align_content": null,
            "align_items": null,
            "align_self": null,
            "border": null,
            "bottom": null,
            "display": null,
            "flex": null,
            "flex_flow": null,
            "grid_area": null,
            "grid_auto_columns": null,
            "grid_auto_flow": null,
            "grid_auto_rows": null,
            "grid_column": null,
            "grid_gap": null,
            "grid_row": null,
            "grid_template_areas": null,
            "grid_template_columns": null,
            "grid_template_rows": null,
            "height": null,
            "justify_content": null,
            "justify_items": null,
            "left": null,
            "margin": null,
            "max_height": null,
            "max_width": null,
            "min_height": null,
            "min_width": null,
            "object_fit": null,
            "object_position": null,
            "order": null,
            "overflow": null,
            "overflow_x": null,
            "overflow_y": null,
            "padding": null,
            "right": null,
            "top": null,
            "visibility": null,
            "width": null
          }
        },
        "e129f7ab03cc445e883bc0c1b04550bf": {
          "model_module": "@jupyter-widgets/controls",
          "model_name": "ProgressStyleModel",
          "model_module_version": "1.5.0",
          "state": {
            "_model_module": "@jupyter-widgets/controls",
            "_model_module_version": "1.5.0",
            "_model_name": "ProgressStyleModel",
            "_view_count": null,
            "_view_module": "@jupyter-widgets/base",
            "_view_module_version": "1.2.0",
            "_view_name": "StyleView",
            "bar_color": null,
            "description_width": ""
          }
        },
        "85bf94df824149848955243a46fbc63f": {
          "model_module": "@jupyter-widgets/base",
          "model_name": "LayoutModel",
          "model_module_version": "1.2.0",
          "state": {
            "_model_module": "@jupyter-widgets/base",
            "_model_module_version": "1.2.0",
            "_model_name": "LayoutModel",
            "_view_count": null,
            "_view_module": "@jupyter-widgets/base",
            "_view_module_version": "1.2.0",
            "_view_name": "LayoutView",
            "align_content": null,
            "align_items": null,
            "align_self": null,
            "border": null,
            "bottom": null,
            "display": null,
            "flex": null,
            "flex_flow": null,
            "grid_area": null,
            "grid_auto_columns": null,
            "grid_auto_flow": null,
            "grid_auto_rows": null,
            "grid_column": null,
            "grid_gap": null,
            "grid_row": null,
            "grid_template_areas": null,
            "grid_template_columns": null,
            "grid_template_rows": null,
            "height": null,
            "justify_content": null,
            "justify_items": null,
            "left": null,
            "margin": null,
            "max_height": null,
            "max_width": null,
            "min_height": null,
            "min_width": null,
            "object_fit": null,
            "object_position": null,
            "order": null,
            "overflow": null,
            "overflow_x": null,
            "overflow_y": null,
            "padding": null,
            "right": null,
            "top": null,
            "visibility": null,
            "width": null
          }
        },
        "01da18ed2c054bb5b28f52eb2d5a009e": {
          "model_module": "@jupyter-widgets/controls",
          "model_name": "DescriptionStyleModel",
          "model_module_version": "1.5.0",
          "state": {
            "_model_module": "@jupyter-widgets/controls",
            "_model_module_version": "1.5.0",
            "_model_name": "DescriptionStyleModel",
            "_view_count": null,
            "_view_module": "@jupyter-widgets/base",
            "_view_module_version": "1.2.0",
            "_view_name": "StyleView",
            "description_width": ""
          }
        },
        "e9548888ce81454e91ac862fb39b59c7": {
          "model_module": "@jupyter-widgets/controls",
          "model_name": "HBoxModel",
          "model_module_version": "1.5.0",
          "state": {
            "_dom_classes": [],
            "_model_module": "@jupyter-widgets/controls",
            "_model_module_version": "1.5.0",
            "_model_name": "HBoxModel",
            "_view_count": null,
            "_view_module": "@jupyter-widgets/controls",
            "_view_module_version": "1.5.0",
            "_view_name": "HBoxView",
            "box_style": "",
            "children": [
              "IPY_MODEL_bd3c057e4c9145f1857ca946fb4005fc",
              "IPY_MODEL_f9f8e8913426438c916cf47063b098a9",
              "IPY_MODEL_776c19f0463c4c4ca21f9f338c5fca2a"
            ],
            "layout": "IPY_MODEL_e2dd90b345104dc49dd3c42eb3ccce4f"
          }
        },
        "bd3c057e4c9145f1857ca946fb4005fc": {
          "model_module": "@jupyter-widgets/controls",
          "model_name": "HTMLModel",
          "model_module_version": "1.5.0",
          "state": {
            "_dom_classes": [],
            "_model_module": "@jupyter-widgets/controls",
            "_model_module_version": "1.5.0",
            "_model_name": "HTMLModel",
            "_view_count": null,
            "_view_module": "@jupyter-widgets/controls",
            "_view_module_version": "1.5.0",
            "_view_name": "HTMLView",
            "description": "",
            "description_tooltip": null,
            "layout": "IPY_MODEL_aaa5d7f6f9aa4527a812884b9bf010d0",
            "placeholder": "​",
            "style": "IPY_MODEL_2764df68ffd740d98d4e913b53b3ce85",
            "value": "Downloading (…)/main/tokenizer.json: 100%"
          }
        },
        "f9f8e8913426438c916cf47063b098a9": {
          "model_module": "@jupyter-widgets/controls",
          "model_name": "FloatProgressModel",
          "model_module_version": "1.5.0",
          "state": {
            "_dom_classes": [],
            "_model_module": "@jupyter-widgets/controls",
            "_model_module_version": "1.5.0",
            "_model_name": "FloatProgressModel",
            "_view_count": null,
            "_view_module": "@jupyter-widgets/controls",
            "_view_module_version": "1.5.0",
            "_view_name": "ProgressView",
            "bar_style": "success",
            "description": "",
            "description_tooltip": null,
            "layout": "IPY_MODEL_1eff23bb2e6a457dba81f4da76e5ddd5",
            "max": 466062,
            "min": 0,
            "orientation": "horizontal",
            "style": "IPY_MODEL_f0c429325f644e58ba2ff57462541f54",
            "value": 466062
          }
        },
        "776c19f0463c4c4ca21f9f338c5fca2a": {
          "model_module": "@jupyter-widgets/controls",
          "model_name": "HTMLModel",
          "model_module_version": "1.5.0",
          "state": {
            "_dom_classes": [],
            "_model_module": "@jupyter-widgets/controls",
            "_model_module_version": "1.5.0",
            "_model_name": "HTMLModel",
            "_view_count": null,
            "_view_module": "@jupyter-widgets/controls",
            "_view_module_version": "1.5.0",
            "_view_name": "HTMLView",
            "description": "",
            "description_tooltip": null,
            "layout": "IPY_MODEL_235406a73d4347fd8fe317865522d5f1",
            "placeholder": "​",
            "style": "IPY_MODEL_152eba4ba284406f9a8e89a4be5b5602",
            "value": " 466k/466k [00:00&lt;00:00, 7.83MB/s]"
          }
        },
        "e2dd90b345104dc49dd3c42eb3ccce4f": {
          "model_module": "@jupyter-widgets/base",
          "model_name": "LayoutModel",
          "model_module_version": "1.2.0",
          "state": {
            "_model_module": "@jupyter-widgets/base",
            "_model_module_version": "1.2.0",
            "_model_name": "LayoutModel",
            "_view_count": null,
            "_view_module": "@jupyter-widgets/base",
            "_view_module_version": "1.2.0",
            "_view_name": "LayoutView",
            "align_content": null,
            "align_items": null,
            "align_self": null,
            "border": null,
            "bottom": null,
            "display": null,
            "flex": null,
            "flex_flow": null,
            "grid_area": null,
            "grid_auto_columns": null,
            "grid_auto_flow": null,
            "grid_auto_rows": null,
            "grid_column": null,
            "grid_gap": null,
            "grid_row": null,
            "grid_template_areas": null,
            "grid_template_columns": null,
            "grid_template_rows": null,
            "height": null,
            "justify_content": null,
            "justify_items": null,
            "left": null,
            "margin": null,
            "max_height": null,
            "max_width": null,
            "min_height": null,
            "min_width": null,
            "object_fit": null,
            "object_position": null,
            "order": null,
            "overflow": null,
            "overflow_x": null,
            "overflow_y": null,
            "padding": null,
            "right": null,
            "top": null,
            "visibility": null,
            "width": null
          }
        },
        "aaa5d7f6f9aa4527a812884b9bf010d0": {
          "model_module": "@jupyter-widgets/base",
          "model_name": "LayoutModel",
          "model_module_version": "1.2.0",
          "state": {
            "_model_module": "@jupyter-widgets/base",
            "_model_module_version": "1.2.0",
            "_model_name": "LayoutModel",
            "_view_count": null,
            "_view_module": "@jupyter-widgets/base",
            "_view_module_version": "1.2.0",
            "_view_name": "LayoutView",
            "align_content": null,
            "align_items": null,
            "align_self": null,
            "border": null,
            "bottom": null,
            "display": null,
            "flex": null,
            "flex_flow": null,
            "grid_area": null,
            "grid_auto_columns": null,
            "grid_auto_flow": null,
            "grid_auto_rows": null,
            "grid_column": null,
            "grid_gap": null,
            "grid_row": null,
            "grid_template_areas": null,
            "grid_template_columns": null,
            "grid_template_rows": null,
            "height": null,
            "justify_content": null,
            "justify_items": null,
            "left": null,
            "margin": null,
            "max_height": null,
            "max_width": null,
            "min_height": null,
            "min_width": null,
            "object_fit": null,
            "object_position": null,
            "order": null,
            "overflow": null,
            "overflow_x": null,
            "overflow_y": null,
            "padding": null,
            "right": null,
            "top": null,
            "visibility": null,
            "width": null
          }
        },
        "2764df68ffd740d98d4e913b53b3ce85": {
          "model_module": "@jupyter-widgets/controls",
          "model_name": "DescriptionStyleModel",
          "model_module_version": "1.5.0",
          "state": {
            "_model_module": "@jupyter-widgets/controls",
            "_model_module_version": "1.5.0",
            "_model_name": "DescriptionStyleModel",
            "_view_count": null,
            "_view_module": "@jupyter-widgets/base",
            "_view_module_version": "1.2.0",
            "_view_name": "StyleView",
            "description_width": ""
          }
        },
        "1eff23bb2e6a457dba81f4da76e5ddd5": {
          "model_module": "@jupyter-widgets/base",
          "model_name": "LayoutModel",
          "model_module_version": "1.2.0",
          "state": {
            "_model_module": "@jupyter-widgets/base",
            "_model_module_version": "1.2.0",
            "_model_name": "LayoutModel",
            "_view_count": null,
            "_view_module": "@jupyter-widgets/base",
            "_view_module_version": "1.2.0",
            "_view_name": "LayoutView",
            "align_content": null,
            "align_items": null,
            "align_self": null,
            "border": null,
            "bottom": null,
            "display": null,
            "flex": null,
            "flex_flow": null,
            "grid_area": null,
            "grid_auto_columns": null,
            "grid_auto_flow": null,
            "grid_auto_rows": null,
            "grid_column": null,
            "grid_gap": null,
            "grid_row": null,
            "grid_template_areas": null,
            "grid_template_columns": null,
            "grid_template_rows": null,
            "height": null,
            "justify_content": null,
            "justify_items": null,
            "left": null,
            "margin": null,
            "max_height": null,
            "max_width": null,
            "min_height": null,
            "min_width": null,
            "object_fit": null,
            "object_position": null,
            "order": null,
            "overflow": null,
            "overflow_x": null,
            "overflow_y": null,
            "padding": null,
            "right": null,
            "top": null,
            "visibility": null,
            "width": null
          }
        },
        "f0c429325f644e58ba2ff57462541f54": {
          "model_module": "@jupyter-widgets/controls",
          "model_name": "ProgressStyleModel",
          "model_module_version": "1.5.0",
          "state": {
            "_model_module": "@jupyter-widgets/controls",
            "_model_module_version": "1.5.0",
            "_model_name": "ProgressStyleModel",
            "_view_count": null,
            "_view_module": "@jupyter-widgets/base",
            "_view_module_version": "1.2.0",
            "_view_name": "StyleView",
            "bar_color": null,
            "description_width": ""
          }
        },
        "235406a73d4347fd8fe317865522d5f1": {
          "model_module": "@jupyter-widgets/base",
          "model_name": "LayoutModel",
          "model_module_version": "1.2.0",
          "state": {
            "_model_module": "@jupyter-widgets/base",
            "_model_module_version": "1.2.0",
            "_model_name": "LayoutModel",
            "_view_count": null,
            "_view_module": "@jupyter-widgets/base",
            "_view_module_version": "1.2.0",
            "_view_name": "LayoutView",
            "align_content": null,
            "align_items": null,
            "align_self": null,
            "border": null,
            "bottom": null,
            "display": null,
            "flex": null,
            "flex_flow": null,
            "grid_area": null,
            "grid_auto_columns": null,
            "grid_auto_flow": null,
            "grid_auto_rows": null,
            "grid_column": null,
            "grid_gap": null,
            "grid_row": null,
            "grid_template_areas": null,
            "grid_template_columns": null,
            "grid_template_rows": null,
            "height": null,
            "justify_content": null,
            "justify_items": null,
            "left": null,
            "margin": null,
            "max_height": null,
            "max_width": null,
            "min_height": null,
            "min_width": null,
            "object_fit": null,
            "object_position": null,
            "order": null,
            "overflow": null,
            "overflow_x": null,
            "overflow_y": null,
            "padding": null,
            "right": null,
            "top": null,
            "visibility": null,
            "width": null
          }
        },
        "152eba4ba284406f9a8e89a4be5b5602": {
          "model_module": "@jupyter-widgets/controls",
          "model_name": "DescriptionStyleModel",
          "model_module_version": "1.5.0",
          "state": {
            "_model_module": "@jupyter-widgets/controls",
            "_model_module_version": "1.5.0",
            "_model_name": "DescriptionStyleModel",
            "_view_count": null,
            "_view_module": "@jupyter-widgets/base",
            "_view_module_version": "1.2.0",
            "_view_name": "StyleView",
            "description_width": ""
          }
        }
      }
    }
  },
  "cells": [
    {
      "cell_type": "markdown",
      "source": [
        "# Importing Libraries"
      ],
      "metadata": {
        "id": "dEYaSmLOB76p"
      }
    },
    {
      "cell_type": "code",
      "source": [
        "!pip install transformers"
      ],
      "metadata": {
        "id": "4QczpWHxei-A",
        "colab": {
          "base_uri": "https://localhost:8080/"
        },
        "outputId": "6eaec7e5-591c-47ae-9596-3da219698f64"
      },
      "execution_count": 1,
      "outputs": [
        {
          "output_type": "stream",
          "name": "stdout",
          "text": [
            "Looking in indexes: https://pypi.org/simple, https://us-python.pkg.dev/colab-wheels/public/simple/\n",
            "Collecting transformers\n",
            "  Downloading transformers-4.28.1-py3-none-any.whl (7.0 MB)\n",
            "\u001b[2K     \u001b[90m━━━━━━━━━━━━━━━━━━━━━━━━━━━━━━━━━━━━━━━━\u001b[0m \u001b[32m7.0/7.0 MB\u001b[0m \u001b[31m83.7 MB/s\u001b[0m eta \u001b[36m0:00:00\u001b[0m\n",
            "\u001b[?25hCollecting huggingface-hub<1.0,>=0.11.0\n",
            "  Downloading huggingface_hub-0.14.1-py3-none-any.whl (224 kB)\n",
            "\u001b[2K     \u001b[90m━━━━━━━━━━━━━━━━━━━━━━━━━━━━━━━━━━━━━━\u001b[0m \u001b[32m224.5/224.5 kB\u001b[0m \u001b[31m26.2 MB/s\u001b[0m eta \u001b[36m0:00:00\u001b[0m\n",
            "\u001b[?25hRequirement already satisfied: requests in /usr/local/lib/python3.9/dist-packages (from transformers) (2.27.1)\n",
            "Requirement already satisfied: pyyaml>=5.1 in /usr/local/lib/python3.9/dist-packages (from transformers) (6.0)\n",
            "Collecting tokenizers!=0.11.3,<0.14,>=0.11.1\n",
            "  Downloading tokenizers-0.13.3-cp39-cp39-manylinux_2_17_x86_64.manylinux2014_x86_64.whl (7.8 MB)\n",
            "\u001b[2K     \u001b[90m━━━━━━━━━━━━━━━━━━━━━━━━━━━━━━━━━━━━━━━━\u001b[0m \u001b[32m7.8/7.8 MB\u001b[0m \u001b[31m104.1 MB/s\u001b[0m eta \u001b[36m0:00:00\u001b[0m\n",
            "\u001b[?25hRequirement already satisfied: numpy>=1.17 in /usr/local/lib/python3.9/dist-packages (from transformers) (1.22.4)\n",
            "Requirement already satisfied: filelock in /usr/local/lib/python3.9/dist-packages (from transformers) (3.12.0)\n",
            "Requirement already satisfied: packaging>=20.0 in /usr/local/lib/python3.9/dist-packages (from transformers) (23.1)\n",
            "Requirement already satisfied: tqdm>=4.27 in /usr/local/lib/python3.9/dist-packages (from transformers) (4.65.0)\n",
            "Requirement already satisfied: regex!=2019.12.17 in /usr/local/lib/python3.9/dist-packages (from transformers) (2022.10.31)\n",
            "Requirement already satisfied: fsspec in /usr/local/lib/python3.9/dist-packages (from huggingface-hub<1.0,>=0.11.0->transformers) (2023.4.0)\n",
            "Requirement already satisfied: typing-extensions>=3.7.4.3 in /usr/local/lib/python3.9/dist-packages (from huggingface-hub<1.0,>=0.11.0->transformers) (4.5.0)\n",
            "Requirement already satisfied: idna<4,>=2.5 in /usr/local/lib/python3.9/dist-packages (from requests->transformers) (3.4)\n",
            "Requirement already satisfied: urllib3<1.27,>=1.21.1 in /usr/local/lib/python3.9/dist-packages (from requests->transformers) (1.26.15)\n",
            "Requirement already satisfied: certifi>=2017.4.17 in /usr/local/lib/python3.9/dist-packages (from requests->transformers) (2022.12.7)\n",
            "Requirement already satisfied: charset-normalizer~=2.0.0 in /usr/local/lib/python3.9/dist-packages (from requests->transformers) (2.0.12)\n",
            "Installing collected packages: tokenizers, huggingface-hub, transformers\n",
            "Successfully installed huggingface-hub-0.14.1 tokenizers-0.13.3 transformers-4.28.1\n"
          ]
        }
      ]
    },
    {
      "cell_type": "code",
      "source": [
        "import pandas as pd\n",
        "import numpy as np\n",
        "from transformers import DistilBertTokenizer, TFDistilBertModel, AutoTokenizer, TrainingArguments, Trainer, DistilBertModel\n",
        "from tqdm import tqdm\n",
        "import torch\n",
        "from torch.utils.data import DataLoader, Dataset\n",
        "from sklearn.model_selection import train_test_split\n",
        "import torch.nn as nn\n",
        "import pdb\n",
        "import json\n",
        "import ast"
      ],
      "metadata": {
        "id": "hJH3sIQYCi_q"
      },
      "execution_count": 2,
      "outputs": []
    },
    {
      "cell_type": "markdown",
      "source": [
        "# Importing and Tokenizing train-validation-test"
      ],
      "metadata": {
        "id": "mXYH-0cXCRGQ"
      }
    },
    {
      "cell_type": "code",
      "source": [
        "path = \"toyset10000.csv\"\n",
        "df = pd.read_csv(path, dtype=\"string\")\n",
        "df['Definition'] = df['Definition'].astype(str)\n",
        "df = df[['Word', 'Definition']]"
      ],
      "metadata": {
        "id": "fKeOMcbJW5V9"
      },
      "execution_count": null,
      "outputs": []
    },
    {
      "cell_type": "code",
      "source": [
        "df_train, df_test = train_test_split(df[['Definition','Word']], test_size=0.2,random_state=45)\n",
        "df_test, df_val = train_test_split(df_test[['Definition','Word']], test_size=0.5,random_state=45)"
      ],
      "metadata": {
        "id": "EGzMn3PdCjHp"
      },
      "execution_count": null,
      "outputs": []
    },
    {
      "cell_type": "code",
      "source": [
        "tokenizer = AutoTokenizer.from_pretrained('distilbert-base-uncased')\n",
        "\n",
        "train_enc = tokenizer(df_train['Definition'].to_list(), padding=True, truncation=True, max_length=128)\n",
        "test_enc = tokenizer(df_test['Definition'].to_list(), padding=True, truncation=True, max_length=128)\n",
        "val_enc = tokenizer(df_val['Definition'].to_list(), padding=True, truncation=True, max_length=128)"
      ],
      "metadata": {
        "id": "gbMr5wDgDm_A"
      },
      "execution_count": null,
      "outputs": []
    },
    {
      "cell_type": "code",
      "source": [
        "'''One hot encoding of classes'''\n",
        "train_label_enum = {k:j+1 for j, k in enumerate(df_train['Word'].unique())}\n",
        "train_label_enum[\"<unk>\"] = 0\n",
        "train_num_labels = len(train_label_enum)\n",
        "inv_train_label_enum= {v: k for k, v in train_label_enum.items()}\n",
        "df_train['labels'] = df_train['Word'].apply(lambda x: [1.0 if train_label_enum[x]==i else 0.0 for i in range(train_num_labels)])\n",
        "df_val['labels'] = df_val['Word'].apply(lambda x: [1.0 if train_label_enum[x]==i else 0.0 for i in range(train_num_labels)] if x in train_label_enum else [1.0] + [0.0]*(train_num_labels-1))"
      ],
      "metadata": {
        "id": "Lyi61L9tDsLe"
      },
      "execution_count": null,
      "outputs": []
    },
    {
      "cell_type": "code",
      "source": [
        "# Save the dictionary of indexed words to a text file\n",
        "with open('train_label_enum.txt', 'w') as f:\n",
        "    json.dump(train_label_enum, f)"
      ],
      "metadata": {
        "id": "NcFclIh_zEIj"
      },
      "execution_count": null,
      "outputs": []
    },
    {
      "cell_type": "markdown",
      "source": [
        "# Dataset and DataLoader functions for Train, Validation and Test"
      ],
      "metadata": {
        "id": "f_CZld_NC_8Y"
      }
    },
    {
      "cell_type": "code",
      "source": [
        "class RevDictDataset(torch.utils.data.Dataset):\n",
        "    def __init__(self, encodings, labels):\n",
        "        self.encodings = encodings\n",
        "        self.labels = labels\n",
        "        self.labels = self.labels.to_list()\n",
        "    def __getitem__(self, idx):\n",
        "        item = {key: torch.tensor(val[idx]) for key, val in self.encodings.items()}\n",
        "        item['labels'] = torch.tensor(self.labels[idx])\n",
        "        return item\n",
        "    def __len__(self):\n",
        "        return len(self.labels)"
      ],
      "metadata": {
        "id": "GQmzYiEwDsIa"
      },
      "execution_count": 3,
      "outputs": []
    },
    {
      "cell_type": "code",
      "source": [
        "train_dataset = RevDictDataset(train_enc, df_train['labels'])\n",
        "val_dataset = RevDictDataset(val_enc, df_val['labels'])"
      ],
      "metadata": {
        "id": "M2vWjuHaDsQu"
      },
      "execution_count": null,
      "outputs": []
    },
    {
      "cell_type": "code",
      "source": [
        "# Instantiate the DataLoader for train and validation datasets\n",
        "train_loader = DataLoader(train_dataset, batch_size=8, shuffle=True)\n",
        "val_loader = DataLoader(val_dataset, batch_size=8, shuffle=False)  # No need to shuffle for validation"
      ],
      "metadata": {
        "id": "DTgEXbIjbM2u"
      },
      "execution_count": null,
      "outputs": []
    },
    {
      "cell_type": "code",
      "source": [
        "labels = []\n",
        "for word in list(df_test['Word']):\n",
        "  if word in train_label_enum:\n",
        "    labels.append(train_label_enum[word])\n",
        "  else:\n",
        "    labels.append(train_label_enum[\"<unk>\"])\n",
        "df_test['labels']=labels\n",
        "test_dataset = RevDictDataset(test_enc, df_test['labels'])\n",
        "test_loader = DataLoader(test_dataset, batch_size=8,shuffle=False) "
      ],
      "metadata": {
        "id": "B_jxVNsbDmsp"
      },
      "execution_count": null,
      "outputs": []
    },
    {
      "cell_type": "markdown",
      "source": [
        "# Defining the functions for the model and train with validation"
      ],
      "metadata": {
        "id": "vgkWINlwDGS9"
      }
    },
    {
      "cell_type": "code",
      "source": [
        "import torch\n",
        "import torch.nn as nn\n",
        "from transformers import DistilBertModel, DistilBertTokenizer\n",
        "\n",
        "class BLmodel(nn.Module):\n",
        "    def __init__(self, vocab_size, embedding_dim, hidden_dim1, hidden_dim2, hidden_dim3, hidden_dim4):\n",
        "        super(BLmodel, self).__init__()\n",
        "        self.bert_model = DistilBertModel.from_pretrained('distilbert-base-uncased')\n",
        "        self.lstm_layer_1 = nn.LSTM(input_size=768, hidden_size=hidden_dim1, num_layers=1, batch_first=True)\n",
        "        self.lstm_layer_2 = nn.LSTM(input_size=hidden_dim1, hidden_size=hidden_dim2, num_layers=1, batch_first=True)\n",
        "        self.lstm_layer_3 = nn.LSTM(input_size=hidden_dim2, hidden_size=hidden_dim3, num_layers=1, batch_first=True)\n",
        "        self.lstm_layer_4 = nn.LSTM(input_size=hidden_dim3, hidden_size=hidden_dim4, num_layers=1, batch_first=True)\n",
        "        self.output_layer = nn.Linear(hidden_dim4, vocab_size)\n",
        "\n",
        "    def forward(self, input_ids, attention_mask=None):\n",
        "        outputs = self.bert_model(input_ids=input_ids, attention_mask=attention_mask)\n",
        "        bert_embedding = outputs[0]\n",
        "        lstm_output_1, _ = self.lstm_layer_1(bert_embedding)\n",
        "        lstm_output_2, _ = self.lstm_layer_2(lstm_output_1)\n",
        "        lstm_output_3, _ = self.lstm_layer_3(lstm_output_2)\n",
        "        lstm_output_4, _ = self.lstm_layer_4(lstm_output_3)\n",
        "        output = self.output_layer(lstm_output_4[:, -1, :])\n",
        "        return output\n"
      ],
      "metadata": {
        "id": "fT1GkN7aO3sl"
      },
      "execution_count": 4,
      "outputs": []
    },
    {
      "cell_type": "code",
      "source": [
        "from tqdm import tqdm\n",
        "def train(model, train_loader, val_loader, optimizer, num_epochs):\n",
        "    model.train()\n",
        "    min_val_loss = float('inf')\n",
        "    for epoch in range(num_epochs):\n",
        "        total_loss = 0.0\n",
        "        # Training\n",
        "        for batch in tqdm(train_loader):\n",
        "            input_ids = batch['input_ids']\n",
        "            labels = batch['labels']\n",
        "            attention_mask= batch['attention_mask']\n",
        "            optimizer.zero_grad()\n",
        "            outputs = model(input_ids,attention_mask)\n",
        "            # pdb.set_trace()\n",
        "            loss = nn.MSELoss()(outputs.view(-1, len(train_label_enum)), labels)\n",
        "            loss.backward()\n",
        "            optimizer.step()\n",
        "\n",
        "            total_loss += loss.item()\n",
        "\n",
        "        # Validation\n",
        "        model.eval()\n",
        "        with torch.no_grad():\n",
        "            total_val_loss = 0.0\n",
        "            for batch in val_loader:\n",
        "                input_ids = batch['input_ids']\n",
        "                labels = batch['labels']\n",
        "                attention_mask= batch['attention_mask']\n",
        "                outputs = model(input_ids,attention_mask)\n",
        "\n",
        "                # pdb.set_trace()\n",
        "                \n",
        "                # Generate top-k words for validation\n",
        "                # _, topk_indices = torch.topk(outputs, k=10, dim=1)\n",
        "                # for i,idx_row in enumerate(topk_indices):\n",
        "                #   row_words = [inv_train_label_enum[idx.item()] for idx in idx_row]\n",
        "                #   print(f\"Top-10 words for {inv_train_label_enum[labels[i].item()]} generated are: {row_words}\")\n",
        "                \n",
        "                val_loss = nn.MSELoss()(outputs.view(-1, len(train_label_enum)), labels)\n",
        "                total_val_loss += val_loss.item()\n",
        "\n",
        "        avg_loss = total_loss / len(train_loader)\n",
        "        avg_val_loss = total_val_loss / len(val_loader)\n",
        "\n",
        "        if avg_val_loss <= min_val_loss:\n",
        "          min_val_loss = avg_val_loss\n",
        "          torch.save(model.state_dict(), 'model.pt')\n",
        "\n",
        "        print(f\"Epoch [{epoch+1}/{num_epochs}]\"\n",
        "              f\"\\tTrain Loss: {avg_loss:.4f}\"\n",
        "              f\"\\tVal Loss: {avg_val_loss:.4f}\"\n",
        "              f\"\\tMin Val Loss: {min_val_loss:.4f}\")\n",
        "\n",
        "        model.train()\n"
      ],
      "metadata": {
        "id": "EGn23k1nRUow"
      },
      "execution_count": 5,
      "outputs": []
    },
    {
      "cell_type": "markdown",
      "source": [
        "# Training the model"
      ],
      "metadata": {
        "id": "p1rAxnUvDSRJ"
      }
    },
    {
      "cell_type": "code",
      "source": [
        "# Define the training parameters\n",
        "vocab_size = len(train_label_enum)\n",
        "embedding_dim = 768\n",
        "hidden_dim1 = 256\n",
        "hidden_dim2 = 128\n",
        "hidden_dim3 = 64\n",
        "hidden_dim4 = 32\n",
        "model = BLmodel(vocab_size, embedding_dim, hidden_dim1, hidden_dim2, hidden_dim3, hidden_dim4)\n",
        "optimizer = torch.optim.AdamW(model.parameters(), lr=0.0001)\n",
        "num_epochs = 10\n",
        "\n",
        "# Train and validate the model\n",
        "train(model, train_loader, val_loader, optimizer, num_epochs)"
      ],
      "metadata": {
        "id": "iJ_KHP1I-Ehm"
      },
      "execution_count": null,
      "outputs": []
    },
    {
      "cell_type": "markdown",
      "source": [
        "# Testing the model"
      ],
      "metadata": {
        "id": "3T2wGYmNEMlt"
      }
    },
    {
      "cell_type": "code",
      "source": [
        "vocab_size = len(train_label_enum)\n",
        "embedding_dim = 768\n",
        "hidden_dim1 = 256\n",
        "hidden_dim2 = 128\n",
        "hidden_dim3 = 64\n",
        "hidden_dim4 = 32\n",
        "model = BLmodel(vocab_size, embedding_dim, hidden_dim1, hidden_dim2, hidden_dim3, hidden_dim4)\n",
        "model.load_state_dict(torch.load('./model.pt'))\n",
        "\n",
        "#On Validation\n",
        "model.eval()\n",
        "with torch.no_grad():\n",
        "  val_final_output=[]\n",
        "  for batch in val_loader:\n",
        "      input_ids = batch['input_ids']\n",
        "      attention_mask= batch['attention_mask']\n",
        "      outputs = model(input_ids,attention_mask)\n",
        "\n",
        "      # Generate top-k words for each instance in the batch\n",
        "      _, topk_indices = torch.topk(outputs, k=100, dim=1)\n",
        "      for i, idx_row in enumerate(topk_indices):\n",
        "          row_words = [inv_train_label_enum[idx.item()] for idx in idx_row]\n",
        "          val_final_output.append(row_words)\n",
        "\n",
        "#On Test\n",
        "model.eval()\n",
        "with torch.no_grad():\n",
        "  test_final_output=[]\n",
        "  for batch in test_loader:\n",
        "      input_ids = batch['input_ids']\n",
        "      attention_mask= batch['attention_mask']\n",
        "      outputs = model(input_ids,attention_mask)\n",
        "\n",
        "      # Generate top-k words for each instance in the batch\n",
        "      _, topk_indices = torch.topk(outputs, k=100, dim=1)\n",
        "      for i, idx_row in enumerate(topk_indices):\n",
        "          row_words = [inv_train_label_enum[idx.item()] for idx in idx_row]\n",
        "          test_final_output.append(row_words)"
      ],
      "metadata": {
        "id": "QNs_dcPcEChs"
      },
      "execution_count": null,
      "outputs": []
    },
    {
      "cell_type": "code",
      "source": [
        "with open('validation_output.txt', 'w') as file:\n",
        "  for i, word in enumerate(df_val['Word']):\n",
        "        file.write(f\"{word} : {val_final_output[i]}\\n\")\n",
        "\n",
        "with open('test_output.txt', 'w') as file:\n",
        "  for i, word in enumerate(df_test['Word']):\n",
        "        file.write(f\"{word} : {test_final_output[i]}\\n\")"
      ],
      "metadata": {
        "id": "jEEkKxd3Z94B"
      },
      "execution_count": null,
      "outputs": []
    },
    {
      "cell_type": "code",
      "source": [
        "top_one=0\n",
        "top_ten=0\n",
        "top_hundred=0\n",
        "total_words= len(df_val['Word'])\n",
        "for i,word in enumerate(df_val['Word']):\n",
        "  if val_final_output[i][0] == word:\n",
        "    top_one+=1\n",
        "    top_ten+=1\n",
        "    top_hundred+=1\n",
        "  elif word in val_final_output[i][:10]:\n",
        "    top_ten+=1\n",
        "    top_hundred+=1\n",
        "  elif word in val_final_output[i][:100]:\n",
        "    top_hundred+=1\n",
        "\n",
        "print(\"Accuracy for Validation Dataset:\")\n",
        "print(\"Top-1 Accuracy: {:.2f}\".format(top_one/total_words))\n",
        "print(\"Top-10 Accuracy: {:.2f}\".format(top_ten/total_words))\n",
        "print(\"Top-100 Accuracy: {:.2f}\".format(top_hundred/total_words))"
      ],
      "metadata": {
        "id": "On46Q6nZKfN7"
      },
      "execution_count": null,
      "outputs": []
    },
    {
      "cell_type": "code",
      "source": [
        "top_one=0\n",
        "top_ten=0\n",
        "top_hundred=0\n",
        "total_words= len(df_test['Word'])\n",
        "for i,word in enumerate(df_test['Word']):\n",
        "  if test_final_output[i][0] == word:\n",
        "    top_one+=1\n",
        "    top_ten+=1\n",
        "    top_hundred+=1\n",
        "  elif word in test_final_output[i][:10]:\n",
        "    top_ten+=1\n",
        "    top_hundred+=1\n",
        "  elif word in test_final_output[i][:100]:\n",
        "    top_hundred+=1\n",
        "\n",
        "print(\"Accuracy for Test Dataset:\")\n",
        "print(\"Top-1 Accuracy: {:.2f}\".format(top_one/total_words))\n",
        "print(\"Top-10 Accuracy: {:.2f}\".format(top_ten/total_words))\n",
        "print(\"Top-100 Accuracy: {:.2f}\".format(top_hundred/total_words))"
      ],
      "metadata": {
        "id": "SbR58_oAECm7"
      },
      "execution_count": null,
      "outputs": []
    },
    {
      "cell_type": "markdown",
      "source": [
        "# Testing the model on human coded test set"
      ],
      "metadata": {
        "id": "9sv2k2-Rc7vT"
      }
    },
    {
      "cell_type": "code",
      "source": [
        "# Using the human coded test set\n",
        "path = \"./sample_data/testset.csv\"\n",
        "human_test_df = pd.read_csv(path, dtype=\"string\")\n",
        "human_test_df['Definition'] = human_test_df['Definition'].astype(str)\n",
        "human_test_df = human_test_df[['Word', 'Definition']]\n",
        "tokenizer = AutoTokenizer.from_pretrained('distilbert-base-uncased')\n",
        "human_test_enc = tokenizer(human_test_df['Definition'].to_list(), padding=True, truncation=True, max_length=128)\n",
        "\n",
        "with open('./sample_data/train_label_enum.txt', 'r') as file:\n",
        "    contents = file.read()\n",
        "train_label_enum = ast.literal_eval(contents)\n",
        "inv_train_label_enum= {v: k for k, v in train_label_enum.items()}\n",
        "\n",
        "labels = []\n",
        "for word in list(human_test_df['Word']):\n",
        "  if word in train_label_enum:\n",
        "    labels.append(train_label_enum[word])\n",
        "  else:\n",
        "    labels.append(train_label_enum[\"<unk>\"])\n",
        "human_test_df['labels']=labels\n",
        "human_test_dataset = RevDictDataset(human_test_enc, human_test_df['labels'])\n",
        "human_test_loader = DataLoader(human_test_dataset, batch_size=8,shuffle=False) "
      ],
      "metadata": {
        "id": "TXiDaKLXECqC",
        "colab": {
          "base_uri": "https://localhost:8080/",
          "height": 145,
          "referenced_widgets": [
            "b91d22637bb740578473f0cb9e725151",
            "0dd6354978374eba9e19dba5b6773223",
            "24ff6386a3954d688ff6a86abe624ca2",
            "46cc08e06d1b48b6b6d0a282b8564344",
            "847fcbc9b9664ff4b67feb944662bcdc",
            "c0d09ca9c6ad4be2a8973748ca3e312b",
            "b034592557c74a9094ff6ce9eefe5259",
            "65e7fcee1b38478f94c71ccb4275db19",
            "c09c2817b48e47998ae8654a4e2b3e21",
            "a1519398f67444d984fc43057da3d201",
            "5ef531a48b194f38a292a977a014bb84",
            "d847fbdbdccb442ba4badfb6178c2c41",
            "212df46969744c6ab6d0f2b69e222f0b",
            "18534b643170446092ed21b3de5c2ae5",
            "c66470105acc4ab6bbd9ca76d900e174",
            "bd4ac6dec0864b8c85cb817fa743319e",
            "8d372b39294f406d9aa6a4500c034c9c",
            "28d2807ef82a4ec091fef8c4c9d7fb97",
            "8874cd622b924ee5971e70033170f81a",
            "18110a7382534baca884ec61628eb0dd",
            "c1f0fb87489741a9b46b5fa8899e53b7",
            "51fd78a7aa96414dad624bac06b79a4c",
            "ec2810bf92b845d1a7443df45784575e",
            "2b5b08a130ec4ad7887a828bd2278ea6",
            "d429d84025964b8599ff434b36e25d6e",
            "d815b401adf746cabc0a35a40ec366cc",
            "e2d33b54f9a24fe3991e7870a02b5a24",
            "513b430cf14e4a9f843a3902e4e6fde0",
            "5eea92a47e5d4d3fbe821c7600b6ef50",
            "6a208ea7b552469e96ad1ab6b19c26af",
            "e129f7ab03cc445e883bc0c1b04550bf",
            "85bf94df824149848955243a46fbc63f",
            "01da18ed2c054bb5b28f52eb2d5a009e",
            "e9548888ce81454e91ac862fb39b59c7",
            "bd3c057e4c9145f1857ca946fb4005fc",
            "f9f8e8913426438c916cf47063b098a9",
            "776c19f0463c4c4ca21f9f338c5fca2a",
            "e2dd90b345104dc49dd3c42eb3ccce4f",
            "aaa5d7f6f9aa4527a812884b9bf010d0",
            "2764df68ffd740d98d4e913b53b3ce85",
            "1eff23bb2e6a457dba81f4da76e5ddd5",
            "f0c429325f644e58ba2ff57462541f54",
            "235406a73d4347fd8fe317865522d5f1",
            "152eba4ba284406f9a8e89a4be5b5602"
          ]
        },
        "outputId": "89051b4c-2e7d-4fb1-deed-e788efacba0a"
      },
      "execution_count": 6,
      "outputs": [
        {
          "output_type": "display_data",
          "data": {
            "text/plain": [
              "Downloading (…)okenizer_config.json:   0%|          | 0.00/28.0 [00:00<?, ?B/s]"
            ],
            "application/vnd.jupyter.widget-view+json": {
              "version_major": 2,
              "version_minor": 0,
              "model_id": "b91d22637bb740578473f0cb9e725151"
            }
          },
          "metadata": {}
        },
        {
          "output_type": "display_data",
          "data": {
            "text/plain": [
              "Downloading (…)lve/main/config.json:   0%|          | 0.00/483 [00:00<?, ?B/s]"
            ],
            "application/vnd.jupyter.widget-view+json": {
              "version_major": 2,
              "version_minor": 0,
              "model_id": "d847fbdbdccb442ba4badfb6178c2c41"
            }
          },
          "metadata": {}
        },
        {
          "output_type": "display_data",
          "data": {
            "text/plain": [
              "Downloading (…)solve/main/vocab.txt:   0%|          | 0.00/232k [00:00<?, ?B/s]"
            ],
            "application/vnd.jupyter.widget-view+json": {
              "version_major": 2,
              "version_minor": 0,
              "model_id": "ec2810bf92b845d1a7443df45784575e"
            }
          },
          "metadata": {}
        },
        {
          "output_type": "display_data",
          "data": {
            "text/plain": [
              "Downloading (…)/main/tokenizer.json:   0%|          | 0.00/466k [00:00<?, ?B/s]"
            ],
            "application/vnd.jupyter.widget-view+json": {
              "version_major": 2,
              "version_minor": 0,
              "model_id": "e9548888ce81454e91ac862fb39b59c7"
            }
          },
          "metadata": {}
        }
      ]
    },
    {
      "cell_type": "code",
      "source": [
        "vocab_size = len(train_label_enum)\n",
        "embedding_dim = 768\n",
        "hidden_dim1 = 256\n",
        "hidden_dim2 = 128\n",
        "hidden_dim3 = 64\n",
        "hidden_dim4 = 32\n",
        "model = BLmodel(vocab_size, embedding_dim, hidden_dim1, hidden_dim2, hidden_dim3, hidden_dim4)\n",
        "model.load_state_dict(torch.load('./sample_data/model.pt'))\n",
        "\n",
        "#On Test\n",
        "model.eval()\n",
        "with torch.no_grad():\n",
        "  human_test_final_output=[]\n",
        "  for batch in human_test_loader:\n",
        "      input_ids = batch['input_ids']\n",
        "      attention_mask= batch['attention_mask']\n",
        "      outputs = model(input_ids,attention_mask)\n",
        "\n",
        "      # Generate top-k words for each instance in the batch\n",
        "      _, topk_indices = torch.topk(outputs, k=100, dim=1)\n",
        "      for i, idx_row in enumerate(topk_indices):\n",
        "          row_words = [inv_train_label_enum[idx.item()] for idx in idx_row]\n",
        "          human_test_final_output.append(row_words)"
      ],
      "metadata": {
        "colab": {
          "base_uri": "https://localhost:8080/"
        },
        "id": "UIw7J0AW2tCJ",
        "outputId": "85adef30-1837-4240-cad0-8211712b84f6"
      },
      "execution_count": 8,
      "outputs": [
        {
          "output_type": "stream",
          "name": "stderr",
          "text": [
            "Some weights of the model checkpoint at distilbert-base-uncased were not used when initializing DistilBertModel: ['vocab_layer_norm.bias', 'vocab_transform.bias', 'vocab_layer_norm.weight', 'vocab_projector.weight', 'vocab_projector.bias', 'vocab_transform.weight']\n",
            "- This IS expected if you are initializing DistilBertModel from the checkpoint of a model trained on another task or with another architecture (e.g. initializing a BertForSequenceClassification model from a BertForPreTraining model).\n",
            "- This IS NOT expected if you are initializing DistilBertModel from the checkpoint of a model that you expect to be exactly identical (initializing a BertForSequenceClassification model from a BertForSequenceClassification model).\n"
          ]
        }
      ]
    },
    {
      "cell_type": "code",
      "source": [
        "top_one=0\n",
        "top_ten=0\n",
        "top_hundred=0\n",
        "total_words= len(human_test_df['Word'])\n",
        "for i,word in enumerate(human_test_df['Word']):\n",
        "  if human_test_final_output[i][0] == word:\n",
        "    top_one+=1\n",
        "    top_ten+=1\n",
        "    top_hundred+=1\n",
        "  elif word in human_test_final_output[i][:10]:\n",
        "    top_ten+=1\n",
        "    top_hundred+=1\n",
        "  elif word in human_test_final_output[i][:100]:\n",
        "    top_hundred+=1\n",
        "\n",
        "print(\"Accuracy for Human Test Dataset:\")\n",
        "print(\"Top-1 Accuracy: {:.2f}\".format(top_one/total_words))\n",
        "print(\"Top-10 Accuracy: {:.2f}\".format(top_ten/total_words))\n",
        "print(\"Top-100 Accuracy: {:.2f}\".format(top_hundred/total_words))"
      ],
      "metadata": {
        "colab": {
          "base_uri": "https://localhost:8080/"
        },
        "id": "G-B-PevQ3W0x",
        "outputId": "1caead2f-2176-4736-9b0a-9965db342c7c"
      },
      "execution_count": 9,
      "outputs": [
        {
          "output_type": "stream",
          "name": "stdout",
          "text": [
            "Accuracy for Human Test Dataset:\n",
            "Top-1 Accuracy: 0.00\n",
            "Top-10 Accuracy: 0.00\n",
            "Top-100 Accuracy: 0.06\n"
          ]
        }
      ]
    },
    {
      "cell_type": "code",
      "source": [
        "with open('human_test_output.txt', 'w') as file:\n",
        "  for i, word in enumerate(human_test_df['Word']):\n",
        "        file.write(f\"{word} : {human_test_final_output[i]}\\n\")"
      ],
      "metadata": {
        "id": "4hMPKZHz3l-L"
      },
      "execution_count": 10,
      "outputs": []
    },
    {
      "cell_type": "markdown",
      "source": [
        "# Testing for a sample word"
      ],
      "metadata": {
        "id": "pASwUZ4gdDWD"
      }
    },
    {
      "cell_type": "code",
      "source": [
        "# Using a sample word to test\n",
        "temp_df=pd.DataFrame(columns=['Word', 'Definition'])\n",
        "temp_df = temp_df.append({'Word': 'roof', 'Definition': 'structure forming the upper covering of a builting'}, ignore_index=True)\n",
        "tokenizer = AutoTokenizer.from_pretrained('distilbert-base-uncased')\n",
        "temp_enc = tokenizer(temp_df['Definition'].to_list(), padding=True, truncation=True, max_length=128)\n",
        "\n",
        "with open('./sample_data/train_label_enum.txt', 'r') as file:\n",
        "    contents = file.read()\n",
        "train_label_enum = ast.literal_eval(contents)\n",
        "inv_train_label_enum= {v: k for k, v in train_label_enum.items()}\n",
        "\n",
        "labels = []\n",
        "for word in list(temp_df['Word']):\n",
        "  if word in train_label_enum:\n",
        "    labels.append(train_label_enum[word])\n",
        "  else:\n",
        "    labels.append(train_label_enum[\"<unk>\"])\n",
        "temp_df['labels']=labels\n",
        "temp_dataset = RevDictDataset(temp_enc, temp_df['labels'])\n",
        "temp_loader = DataLoader(temp_dataset, batch_size=8,shuffle=False) \n",
        "\n",
        "\n",
        "\n",
        "\n",
        "vocab_size = len(train_label_enum)\n",
        "embedding_dim = 768\n",
        "hidden_dim1 = 256\n",
        "hidden_dim2 = 128\n",
        "hidden_dim3 = 64\n",
        "hidden_dim4 = 32\n",
        "model = BLmodel(vocab_size, embedding_dim, hidden_dim1, hidden_dim2, hidden_dim3, hidden_dim4)\n",
        "model.load_state_dict(torch.load('./sample_data/model.pt'))\n",
        "\n",
        "\n",
        "model.eval()\n",
        "with torch.no_grad():\n",
        "  temp_final_output=[]\n",
        "  for batch in temp_loader:\n",
        "      input_ids = batch['input_ids']\n",
        "      attention_mask= batch['attention_mask']\n",
        "      outputs = model(input_ids,attention_mask)\n",
        "\n",
        "      # Generate top-k words for each instance in the batch\n",
        "      _, topk_indices = torch.topk(outputs, k=100, dim=1)\n",
        "      for i, idx_row in enumerate(topk_indices):\n",
        "          row_words = [inv_train_label_enum[idx.item()] for idx in idx_row]\n",
        "          temp_final_output.append(row_words)\n",
        "\n",
        "with open('temp_output.txt', 'w') as file:\n",
        "  for i, word in enumerate(temp_df['Word']):\n",
        "        file.write(f\"{word} : {temp_final_output[i]}\\n\")\n",
        "\n",
        "for i,word in enumerate(temp_df['Word']):\n",
        "  print(f\"Top-100 words generated for {word} are: {temp_final_output[i]}\")\n",
        "  print()\n",
        "\n",
        "top_one=0\n",
        "top_ten=0\n",
        "top_hundred=0\n",
        "total_words= len(temp_df['Word'])\n",
        "for i,word in enumerate(temp_df['Word']):\n",
        "  if temp_final_output[i][0] == word:\n",
        "    top_one+=1\n",
        "    top_ten+=1\n",
        "    top_hundred+=1\n",
        "  elif word in temp_final_output[i][:10]:\n",
        "    top_ten+=1\n",
        "    top_hundred+=1\n",
        "  elif word in temp_final_output[i][:100]:\n",
        "    top_hundred+=1\n",
        "\n",
        "print(\"Accuracy for a Sample Word:\")\n",
        "print(\"Top-1 Accuracy: {:.2f}\".format(top_one/total_words))\n",
        "print(\"Top-10 Accuracy: {:.2f}\".format(top_ten/total_words))\n",
        "print(\"Top-100 Accuracy: {:.2f}\".format(top_hundred/total_words))"
      ],
      "metadata": {
        "colab": {
          "base_uri": "https://localhost:8080/"
        },
        "id": "clcdvidi7eTD",
        "outputId": "d6e1589f-ebd8-4a92-bcfa-65d65df1f972"
      },
      "execution_count": 11,
      "outputs": [
        {
          "output_type": "stream",
          "name": "stderr",
          "text": [
            "<ipython-input-11-a9171a6779fc>:3: FutureWarning: The frame.append method is deprecated and will be removed from pandas in a future version. Use pandas.concat instead.\n",
            "  temp_df = temp_df.append({'Word': 'roof', 'Definition': 'structure forming the upper covering of a builting'}, ignore_index=True)\n",
            "Some weights of the model checkpoint at distilbert-base-uncased were not used when initializing DistilBertModel: ['vocab_layer_norm.bias', 'vocab_transform.bias', 'vocab_layer_norm.weight', 'vocab_projector.weight', 'vocab_projector.bias', 'vocab_transform.weight']\n",
            "- This IS expected if you are initializing DistilBertModel from the checkpoint of a model trained on another task or with another architecture (e.g. initializing a BertForSequenceClassification model from a BertForPreTraining model).\n",
            "- This IS NOT expected if you are initializing DistilBertModel from the checkpoint of a model that you expect to be exactly identical (initializing a BertForSequenceClassification model from a BertForSequenceClassification model).\n"
          ]
        },
        {
          "output_type": "stream",
          "name": "stdout",
          "text": [
            "Top-100 words generated for roof are: ['Frolicful', 'back', 'Ulcerous', 'California_wine', 'Cheyne-Stokes_respiration', 'Tripartient', 'busted', 'Parasceve', 'Dram', 'Pongo_pygmaeus', 'charge', 'Complutensian', 'Lepas', 'Chokecherry', 'pothook', 'dateable', 'dispose', 'webber', 'trolling', 'Abstracting', 'bleaching', 'roof', 'Rafter', 'PCP', 'Fluid', 'riddle', 'viniculture', 'Perceptibility', 'Lopper', 'appropriateness', 'shorts', 'privatizing', 'playlist', 'Float', 'Tulsa', 'daisy', 'chad', 'photometer', 'presentation', 'Scenery', 'ornithopod', 'forward', 'trailblazer', 'bologna', 'blue_vitriol', 'decoration', 'impatience', 'Exclusivism', 'clot', 'Dimmy', 'couture', 'reparative', 'May_Day', 'ethiopian', 'Codifier', 'stew', 'amphitheater', 'Pirrie', 'Tumefy', 'short', 'christianity', 'Beat', 'kidnap', 'reprogram', 'despatches', 'Outward', 'being', 'Privative', 'colobus_monkey', 'bunt', 'Distillatory', 'syrian', 'Ichthyocolla', 'conditions', 'messiah', 'intruding', 'unbowed', 'saved', 'divide', 'Grieving', 'minutia', 'beagle', 'rw', 'Dimensive', 'Deracinated', 'threat', 'individualized', 'lusty', 'evidenced', 'Planted', 'matchlock', 'renounce', 'reprobation', 'uptown', 'latin', 'Sitting', 'trucker', 'rebreather', 'jowl', 'rives']\n",
            "\n",
            "Accuracy for a Sample Word:\n",
            "Top-1 Accuracy: 0.00\n",
            "Top-10 Accuracy: 0.00\n",
            "Top-100 Accuracy: 1.00\n"
          ]
        }
      ]
    }
  ]
}